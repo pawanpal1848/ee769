{
  "cells": [
    {
      "cell_type": "markdown",
      "metadata": {
        "id": "DR9hnKW2JPBH"
      },
      "source": [
        "Done by :\n",
        "\n",
        "Pawankumar Shyamlal Pal - 213020036\n",
        "\n",
        "Lakshmi Narayana Jami -213020037\n",
        "\n"
      ]
    },
    {
      "cell_type": "code",
      "execution_count": null,
      "metadata": {
        "id": "X5Ah4YN80euw"
      },
      "outputs": [],
      "source": [
        "import pandas as pd  #importing  required libraries pandas sklearn\n",
        "import numpy as np \n",
        "from sklearn import preprocessing\n",
        "from sklearn.experimental import enable_iterative_imputer\n",
        "from sklearn.impute import IterativeImputer\n",
        "import matplotlib.pyplot as plt\n",
        "import seaborn as sns\n",
        "from sklearn.metrics import f1_score\n",
        "from sklearn.pipeline import Pipeline \n",
        "from sklearn.preprocessing import OneHotEncoder\n",
        "from sklearn.compose import ColumnTransformer"
      ]
    },
    {
      "cell_type": "code",
      "execution_count": null,
      "metadata": {
        "id": "2283u2zK1Ig_"
      },
      "outputs": [],
      "source": [
        "data=pd.read_csv('https://www.ee.iitb.ac.in/~asethi/Dump/MouseTrain.csv') #reading the train data "
      ]
    },
    {
      "cell_type": "code",
      "execution_count": null,
      "metadata": {
        "id": "bUK_xetQ7kSo"
      },
      "outputs": [],
      "source": [
        "data=data.sample(frac=1) #shuffling the train data"
      ]
    },
    {
      "cell_type": "code",
      "source": [
        "data.head()"
      ],
      "metadata": {
        "id": "UfCApMxF0Lhs",
        "outputId": "07374989-8190-467d-df8f-a48889727d5c",
        "colab": {
          "base_uri": "https://localhost:8080/",
          "height": 299
        }
      },
      "execution_count": null,
      "outputs": [
        {
          "output_type": "execute_result",
          "data": {
            "text/plain": [
              "     DYRK1A_N   ITSN1_N    BDNF_N     NR1_N    NR2A_N    pAKT_N   pBRAF_N  \\\n",
              "269  2.459948  2.580104  0.445207  3.006304  5.834415  0.186538  0.175320   \n",
              "257  2.335802  2.539024  0.424498  2.983150  5.843903  0.203129  0.177391   \n",
              "421  0.283078  0.475838  0.408167  2.643456  5.150053  0.222450  0.163873   \n",
              "60   0.649781  0.828696  0.405862  2.921435  5.167979  0.207174  0.176640   \n",
              "335  0.308891  0.561607  0.358348  3.038879  5.576901  0.263007  0.205975   \n",
              "\n",
              "     pCAMKII_N   pCREB_N    pELK_N  ...    BCL2_N     pS6_N   pCFOS_N  \\\n",
              "269   2.099017  0.219544  4.334879  ...  0.189867  0.105534  0.167420   \n",
              "257   3.019443  0.243126  4.857976  ...  0.106517  0.112802  0.110652   \n",
              "421   5.703905  0.210681  1.215228  ...  0.115533  0.139256  0.123424   \n",
              "60    3.728084  0.239283  1.666579  ...  0.112926  0.132001  0.129363   \n",
              "335   4.108062  0.241281  1.283877  ...  0.110705  0.142335  0.102678   \n",
              "\n",
              "        SYP_N  H3AcK18_N    EGR1_N  H3MeK4_N    CaNA_N  Genotype  \\\n",
              "269  0.452533        NaN  0.224162       NaN  1.778176   Control   \n",
              "257  0.523431        NaN  0.136288       NaN  2.051218   Control   \n",
              "421  0.552159   0.210025  0.178660  0.172754  1.200943   Control   \n",
              "60   0.486912   0.125152  0.146865  0.143517  1.627181   Control   \n",
              "335  0.558690   0.107049  0.159183  0.168799  1.246920   Control   \n",
              "\n",
              "     Treatment_Behavior  \n",
              "269          Saline_C/S  \n",
              "257          Saline_C/S  \n",
              "421          Saline_S/C  \n",
              "60        Memantine_C/S  \n",
              "335          Saline_S/C  \n",
              "\n",
              "[5 rows x 79 columns]"
            ],
            "text/html": [
              "\n",
              "  <div id=\"df-76518b28-864b-4da9-b368-afcee13eda65\">\n",
              "    <div class=\"colab-df-container\">\n",
              "      <div>\n",
              "<style scoped>\n",
              "    .dataframe tbody tr th:only-of-type {\n",
              "        vertical-align: middle;\n",
              "    }\n",
              "\n",
              "    .dataframe tbody tr th {\n",
              "        vertical-align: top;\n",
              "    }\n",
              "\n",
              "    .dataframe thead th {\n",
              "        text-align: right;\n",
              "    }\n",
              "</style>\n",
              "<table border=\"1\" class=\"dataframe\">\n",
              "  <thead>\n",
              "    <tr style=\"text-align: right;\">\n",
              "      <th></th>\n",
              "      <th>DYRK1A_N</th>\n",
              "      <th>ITSN1_N</th>\n",
              "      <th>BDNF_N</th>\n",
              "      <th>NR1_N</th>\n",
              "      <th>NR2A_N</th>\n",
              "      <th>pAKT_N</th>\n",
              "      <th>pBRAF_N</th>\n",
              "      <th>pCAMKII_N</th>\n",
              "      <th>pCREB_N</th>\n",
              "      <th>pELK_N</th>\n",
              "      <th>...</th>\n",
              "      <th>BCL2_N</th>\n",
              "      <th>pS6_N</th>\n",
              "      <th>pCFOS_N</th>\n",
              "      <th>SYP_N</th>\n",
              "      <th>H3AcK18_N</th>\n",
              "      <th>EGR1_N</th>\n",
              "      <th>H3MeK4_N</th>\n",
              "      <th>CaNA_N</th>\n",
              "      <th>Genotype</th>\n",
              "      <th>Treatment_Behavior</th>\n",
              "    </tr>\n",
              "  </thead>\n",
              "  <tbody>\n",
              "    <tr>\n",
              "      <th>269</th>\n",
              "      <td>2.459948</td>\n",
              "      <td>2.580104</td>\n",
              "      <td>0.445207</td>\n",
              "      <td>3.006304</td>\n",
              "      <td>5.834415</td>\n",
              "      <td>0.186538</td>\n",
              "      <td>0.175320</td>\n",
              "      <td>2.099017</td>\n",
              "      <td>0.219544</td>\n",
              "      <td>4.334879</td>\n",
              "      <td>...</td>\n",
              "      <td>0.189867</td>\n",
              "      <td>0.105534</td>\n",
              "      <td>0.167420</td>\n",
              "      <td>0.452533</td>\n",
              "      <td>NaN</td>\n",
              "      <td>0.224162</td>\n",
              "      <td>NaN</td>\n",
              "      <td>1.778176</td>\n",
              "      <td>Control</td>\n",
              "      <td>Saline_C/S</td>\n",
              "    </tr>\n",
              "    <tr>\n",
              "      <th>257</th>\n",
              "      <td>2.335802</td>\n",
              "      <td>2.539024</td>\n",
              "      <td>0.424498</td>\n",
              "      <td>2.983150</td>\n",
              "      <td>5.843903</td>\n",
              "      <td>0.203129</td>\n",
              "      <td>0.177391</td>\n",
              "      <td>3.019443</td>\n",
              "      <td>0.243126</td>\n",
              "      <td>4.857976</td>\n",
              "      <td>...</td>\n",
              "      <td>0.106517</td>\n",
              "      <td>0.112802</td>\n",
              "      <td>0.110652</td>\n",
              "      <td>0.523431</td>\n",
              "      <td>NaN</td>\n",
              "      <td>0.136288</td>\n",
              "      <td>NaN</td>\n",
              "      <td>2.051218</td>\n",
              "      <td>Control</td>\n",
              "      <td>Saline_C/S</td>\n",
              "    </tr>\n",
              "    <tr>\n",
              "      <th>421</th>\n",
              "      <td>0.283078</td>\n",
              "      <td>0.475838</td>\n",
              "      <td>0.408167</td>\n",
              "      <td>2.643456</td>\n",
              "      <td>5.150053</td>\n",
              "      <td>0.222450</td>\n",
              "      <td>0.163873</td>\n",
              "      <td>5.703905</td>\n",
              "      <td>0.210681</td>\n",
              "      <td>1.215228</td>\n",
              "      <td>...</td>\n",
              "      <td>0.115533</td>\n",
              "      <td>0.139256</td>\n",
              "      <td>0.123424</td>\n",
              "      <td>0.552159</td>\n",
              "      <td>0.210025</td>\n",
              "      <td>0.178660</td>\n",
              "      <td>0.172754</td>\n",
              "      <td>1.200943</td>\n",
              "      <td>Control</td>\n",
              "      <td>Saline_S/C</td>\n",
              "    </tr>\n",
              "    <tr>\n",
              "      <th>60</th>\n",
              "      <td>0.649781</td>\n",
              "      <td>0.828696</td>\n",
              "      <td>0.405862</td>\n",
              "      <td>2.921435</td>\n",
              "      <td>5.167979</td>\n",
              "      <td>0.207174</td>\n",
              "      <td>0.176640</td>\n",
              "      <td>3.728084</td>\n",
              "      <td>0.239283</td>\n",
              "      <td>1.666579</td>\n",
              "      <td>...</td>\n",
              "      <td>0.112926</td>\n",
              "      <td>0.132001</td>\n",
              "      <td>0.129363</td>\n",
              "      <td>0.486912</td>\n",
              "      <td>0.125152</td>\n",
              "      <td>0.146865</td>\n",
              "      <td>0.143517</td>\n",
              "      <td>1.627181</td>\n",
              "      <td>Control</td>\n",
              "      <td>Memantine_C/S</td>\n",
              "    </tr>\n",
              "    <tr>\n",
              "      <th>335</th>\n",
              "      <td>0.308891</td>\n",
              "      <td>0.561607</td>\n",
              "      <td>0.358348</td>\n",
              "      <td>3.038879</td>\n",
              "      <td>5.576901</td>\n",
              "      <td>0.263007</td>\n",
              "      <td>0.205975</td>\n",
              "      <td>4.108062</td>\n",
              "      <td>0.241281</td>\n",
              "      <td>1.283877</td>\n",
              "      <td>...</td>\n",
              "      <td>0.110705</td>\n",
              "      <td>0.142335</td>\n",
              "      <td>0.102678</td>\n",
              "      <td>0.558690</td>\n",
              "      <td>0.107049</td>\n",
              "      <td>0.159183</td>\n",
              "      <td>0.168799</td>\n",
              "      <td>1.246920</td>\n",
              "      <td>Control</td>\n",
              "      <td>Saline_S/C</td>\n",
              "    </tr>\n",
              "  </tbody>\n",
              "</table>\n",
              "<p>5 rows × 79 columns</p>\n",
              "</div>\n",
              "      <button class=\"colab-df-convert\" onclick=\"convertToInteractive('df-76518b28-864b-4da9-b368-afcee13eda65')\"\n",
              "              title=\"Convert this dataframe to an interactive table.\"\n",
              "              style=\"display:none;\">\n",
              "        \n",
              "  <svg xmlns=\"http://www.w3.org/2000/svg\" height=\"24px\"viewBox=\"0 0 24 24\"\n",
              "       width=\"24px\">\n",
              "    <path d=\"M0 0h24v24H0V0z\" fill=\"none\"/>\n",
              "    <path d=\"M18.56 5.44l.94 2.06.94-2.06 2.06-.94-2.06-.94-.94-2.06-.94 2.06-2.06.94zm-11 1L8.5 8.5l.94-2.06 2.06-.94-2.06-.94L8.5 2.5l-.94 2.06-2.06.94zm10 10l.94 2.06.94-2.06 2.06-.94-2.06-.94-.94-2.06-.94 2.06-2.06.94z\"/><path d=\"M17.41 7.96l-1.37-1.37c-.4-.4-.92-.59-1.43-.59-.52 0-1.04.2-1.43.59L10.3 9.45l-7.72 7.72c-.78.78-.78 2.05 0 2.83L4 21.41c.39.39.9.59 1.41.59.51 0 1.02-.2 1.41-.59l7.78-7.78 2.81-2.81c.8-.78.8-2.07 0-2.86zM5.41 20L4 18.59l7.72-7.72 1.47 1.35L5.41 20z\"/>\n",
              "  </svg>\n",
              "      </button>\n",
              "      \n",
              "  <style>\n",
              "    .colab-df-container {\n",
              "      display:flex;\n",
              "      flex-wrap:wrap;\n",
              "      gap: 12px;\n",
              "    }\n",
              "\n",
              "    .colab-df-convert {\n",
              "      background-color: #E8F0FE;\n",
              "      border: none;\n",
              "      border-radius: 50%;\n",
              "      cursor: pointer;\n",
              "      display: none;\n",
              "      fill: #1967D2;\n",
              "      height: 32px;\n",
              "      padding: 0 0 0 0;\n",
              "      width: 32px;\n",
              "    }\n",
              "\n",
              "    .colab-df-convert:hover {\n",
              "      background-color: #E2EBFA;\n",
              "      box-shadow: 0px 1px 2px rgba(60, 64, 67, 0.3), 0px 1px 3px 1px rgba(60, 64, 67, 0.15);\n",
              "      fill: #174EA6;\n",
              "    }\n",
              "\n",
              "    [theme=dark] .colab-df-convert {\n",
              "      background-color: #3B4455;\n",
              "      fill: #D2E3FC;\n",
              "    }\n",
              "\n",
              "    [theme=dark] .colab-df-convert:hover {\n",
              "      background-color: #434B5C;\n",
              "      box-shadow: 0px 1px 3px 1px rgba(0, 0, 0, 0.15);\n",
              "      filter: drop-shadow(0px 1px 2px rgba(0, 0, 0, 0.3));\n",
              "      fill: #FFFFFF;\n",
              "    }\n",
              "  </style>\n",
              "\n",
              "      <script>\n",
              "        const buttonEl =\n",
              "          document.querySelector('#df-76518b28-864b-4da9-b368-afcee13eda65 button.colab-df-convert');\n",
              "        buttonEl.style.display =\n",
              "          google.colab.kernel.accessAllowed ? 'block' : 'none';\n",
              "\n",
              "        async function convertToInteractive(key) {\n",
              "          const element = document.querySelector('#df-76518b28-864b-4da9-b368-afcee13eda65');\n",
              "          const dataTable =\n",
              "            await google.colab.kernel.invokeFunction('convertToInteractive',\n",
              "                                                     [key], {});\n",
              "          if (!dataTable) return;\n",
              "\n",
              "          const docLinkHtml = 'Like what you see? Visit the ' +\n",
              "            '<a target=\"_blank\" href=https://colab.research.google.com/notebooks/data_table.ipynb>data table notebook</a>'\n",
              "            + ' to learn more about interactive tables.';\n",
              "          element.innerHTML = '';\n",
              "          dataTable['output_type'] = 'display_data';\n",
              "          await google.colab.output.renderOutput(dataTable, element);\n",
              "          const docLink = document.createElement('div');\n",
              "          docLink.innerHTML = docLinkHtml;\n",
              "          element.appendChild(docLink);\n",
              "        }\n",
              "      </script>\n",
              "    </div>\n",
              "  </div>\n",
              "  "
            ]
          },
          "metadata": {},
          "execution_count": 4
        }
      ]
    },
    {
      "cell_type": "code",
      "execution_count": null,
      "metadata": {
        "colab": {
          "base_uri": "https://localhost:8080/"
        },
        "id": "Md0KaESkXnSQ",
        "outputId": "c850178b-5fdc-46be-8064-be29f9337feb"
      },
      "outputs": [
        {
          "data": {
            "text/plain": [
              "Control    435\n",
              "Ts65Dn     327\n",
              "Name: Genotype, dtype: int64"
            ]
          },
          "execution_count": 35,
          "metadata": {},
          "output_type": "execute_result"
        }
      ],
      "source": [
        "data['Genotype'].value_counts() #checking the number of classes in Genotype column "
      ]
    },
    {
      "cell_type": "markdown",
      "metadata": {
        "id": "faseItCIXsh4"
      },
      "source": [
        "We have 2 classes which have to be classified for \"Genotype\" and it is unbalanced"
      ]
    },
    {
      "cell_type": "code",
      "execution_count": null,
      "metadata": {
        "colab": {
          "base_uri": "https://localhost:8080/"
        },
        "id": "LHlW6PiX4UqJ",
        "outputId": "8b1a56ce-e4bc-48ac-a804-c1815fbcdc2b"
      },
      "outputs": [
        {
          "data": {
            "text/plain": [
              "Memantine_S/C    225\n",
              "Memantine_C/S    225\n",
              "Saline_C/S       180\n",
              "Saline_S/C       132\n",
              "Name: Treatment_Behavior, dtype: int64"
            ]
          },
          "execution_count": 36,
          "metadata": {},
          "output_type": "execute_result"
        }
      ],
      "source": [
        "data['Treatment_Behavior'].value_counts() #checking the number of classes in Treatment Behaviour column"
      ]
    },
    {
      "cell_type": "markdown",
      "metadata": {
        "id": "1On6A6AXX_YY"
      },
      "source": [
        "We have 4 classes which have to be classified for \"Treatment_Behavior\" and it is unbalanced"
      ]
    },
    {
      "cell_type": "code",
      "execution_count": null,
      "metadata": {
        "colab": {
          "base_uri": "https://localhost:8080/"
        },
        "id": "D0KdMzfyyDIw",
        "outputId": "838f192e-8eb4-4812-d1b4-ff5ec8afc4f5"
      },
      "outputs": [
        {
          "data": {
            "text/plain": [
              "DYRK1A_N              float64\n",
              "ITSN1_N               float64\n",
              "BDNF_N                float64\n",
              "NR1_N                 float64\n",
              "NR2A_N                float64\n",
              "                       ...   \n",
              "EGR1_N                float64\n",
              "H3MeK4_N              float64\n",
              "CaNA_N                float64\n",
              "Genotype               object\n",
              "Treatment_Behavior     object\n",
              "Length: 79, dtype: object"
            ]
          },
          "execution_count": 37,
          "metadata": {},
          "output_type": "execute_result"
        }
      ],
      "source": [
        "data.dtypes #checking the datatypes of the train data"
      ]
    },
    {
      "cell_type": "markdown",
      "metadata": {
        "id": "vEcWDzHYYLVH"
      },
      "source": [
        "We need to drop the columns of Genotype and Treatment Behavior"
      ]
    },
    {
      "cell_type": "markdown",
      "metadata": {
        "id": "eZ17eg732FV6"
      },
      "source": [
        "Few columns contain Nan values which can be removed to get a better idea about the usable variables"
      ]
    },
    {
      "cell_type": "code",
      "execution_count": null,
      "metadata": {
        "colab": {
          "base_uri": "https://localhost:8080/"
        },
        "id": "oFqZT_Ei2msC",
        "outputId": "9ce6ad2a-cfd4-4e89-8eb7-01cd81e79df0"
      },
      "outputs": [
        {
          "data": {
            "text/plain": [
              "DYRK1A_N                0\n",
              "ITSN1_N                 0\n",
              "BDNF_N                  0\n",
              "NR1_N                   0\n",
              "NR2A_N                  0\n",
              "                     ... \n",
              "EGR1_N                180\n",
              "H3MeK4_N              180\n",
              "CaNA_N                  0\n",
              "Genotype                0\n",
              "Treatment_Behavior      0\n",
              "Length: 79, dtype: int64"
            ]
          },
          "execution_count": 38,
          "metadata": {},
          "output_type": "execute_result"
        }
      ],
      "source": [
        "data.isnull().sum() #calculating the number of Nan values in each column"
      ]
    },
    {
      "cell_type": "code",
      "execution_count": null,
      "metadata": {
        "id": "MzTp3bT_2We5"
      },
      "outputs": [],
      "source": [
        "data=data.dropna(subset=['H3AcK18_N','EGR1_N','H3MeK4_N'], thresh=2) #dropping the row if the number of Nan is 2 in a row to reduce bias "
      ]
    },
    {
      "cell_type": "code",
      "execution_count": null,
      "metadata": {
        "id": "DNrCmrOtJSnP"
      },
      "outputs": [],
      "source": [
        "Genotype=data.loc[:,\"Genotype\"] #saving the Genotype column \n",
        "Treatment_Behaviour=data.loc[:,\"Treatment_Behavior\"] #saving the Treatment_Behaviour column "
      ]
    },
    {
      "cell_type": "code",
      "execution_count": null,
      "metadata": {
        "id": "WGa2sLPJGWig"
      },
      "outputs": [],
      "source": [
        "data=data.drop(['Genotype','Treatment_Behavior'],axis=1) #dropping the the two target columns "
      ]
    },
    {
      "cell_type": "code",
      "execution_count": null,
      "metadata": {
        "id": "GNcuJk38G5sT"
      },
      "outputs": [],
      "source": [
        "header=list(data.columns) #saving the header of the train data"
      ]
    },
    {
      "cell_type": "markdown",
      "metadata": {
        "id": "6t3CgaQTGvb2"
      },
      "source": [
        "Performing multi variable imputation for the train data"
      ]
    },
    {
      "cell_type": "code",
      "execution_count": null,
      "metadata": {
        "id": "3kBp8xczwCHX"
      },
      "outputs": [],
      "source": [
        "import numpy as np\n",
        "from sklearn.experimental import enable_iterative_imputer\n",
        "from sklearn.impute import IterativeImputer\n",
        "imp = IterativeImputer(max_iter=10, random_state=0)\n",
        "imp.fit(data)\n",
        "# the model learns that the second feature is double the first\n",
        "data=pd.DataFrame(imp.transform(data),columns=header)\n"
      ]
    },
    {
      "cell_type": "markdown",
      "metadata": {
        "id": "93STed4a0Rc-"
      },
      "source": [
        "Now the data has been cleaned and our next step should be finding out the usable variables "
      ]
    },
    {
      "cell_type": "markdown",
      "metadata": {
        "id": "J6e0uOxwG1xB"
      },
      "source": [
        "Creating a function to drop the feature if correlaiton is greater than the threshold value "
      ]
    },
    {
      "cell_type": "code",
      "execution_count": null,
      "metadata": {
        "id": "KAZs6sKOKavA"
      },
      "outputs": [],
      "source": [
        "def correlation(dataset, threshold): # creating function for finding corrleated features by passing dataset and thresshold value\n",
        "  col_corr=set()                     #collecting correleated columns\n",
        "  corr_matrix=dataset.corr()\n",
        "  for i in range(len(corr_matrix.columns)):\n",
        "    for j in range(i):\n",
        "      if (corr_matrix.iloc[i,j]) > threshold:\n",
        "        colname = corr_matrix.columns[i] \n",
        "        col_corr.add(colname) #finding corrleated matrix\n",
        "  return col_corr"
      ]
    },
    {
      "cell_type": "code",
      "execution_count": null,
      "metadata": {
        "colab": {
          "base_uri": "https://localhost:8080/"
        },
        "id": "LnITRVjbLALr",
        "outputId": "256a7ac9-b063-48be-a1cb-fb4f2f9bfaa5"
      },
      "outputs": [
        {
          "data": {
            "text/plain": [
              "25"
            ]
          },
          "execution_count": 45,
          "metadata": {},
          "output_type": "execute_result"
        }
      ],
      "source": [
        "corr_features = correlation(data,0.8) #calling correlation function with threshold value 0.9\n",
        "len(set(corr_features)) #no.of corrleated features"
      ]
    },
    {
      "cell_type": "markdown",
      "metadata": {
        "id": "qAq2EN7sNjLB"
      },
      "source": [
        "Thus we can drop 25 features "
      ]
    },
    {
      "cell_type": "code",
      "execution_count": null,
      "metadata": {
        "id": "HZSpmGVuMHxn"
      },
      "outputs": [],
      "source": [
        "clean_data=data.drop(corr_features,axis=1) #dropping the correlated features "
      ]
    },
    {
      "cell_type": "code",
      "execution_count": null,
      "metadata": {
        "colab": {
          "base_uri": "https://localhost:8080/"
        },
        "id": "hUlQgiv6-hY5",
        "outputId": "ffecec69-b778-40ef-ca72-e80f4e7e7cad"
      },
      "outputs": [
        {
          "data": {
            "text/plain": [
              "DYRK1A_N           0\n",
              "BDNF_N             0\n",
              "pAKT_N             0\n",
              "pCAMKII_N          0\n",
              "pCREB_N            0\n",
              "pELK_N             0\n",
              "pJNK_N             0\n",
              "PKCA_N             0\n",
              "pNR2A_N            0\n",
              "pRSK_N             0\n",
              "AKT_N              0\n",
              "CAMKII_N           0\n",
              "CREB_N             0\n",
              "JNK_N              0\n",
              "MEK_N              0\n",
              "APP_N              0\n",
              "SOD1_N             0\n",
              "MTOR_N             0\n",
              "P38_N              0\n",
              "DSCR1_N            0\n",
              "AMPKA_N            0\n",
              "pNUMB_N            0\n",
              "RAPTOR_N           0\n",
              "pP70S6_N           0\n",
              "NUMB_N             0\n",
              "P70S6_N            0\n",
              "pGSK3B_N           0\n",
              "pPKCG_N            0\n",
              "CDK5_N             0\n",
              "S6_N               0\n",
              "ADARB1_N           0\n",
              "AcetylH3K9_N       0\n",
              "RRP1_N             0\n",
              "BAX_N              0\n",
              "ARC_N              0\n",
              "ERBB4_N            0\n",
              "nNOS_N             0\n",
              "GFAP_N             0\n",
              "GluR3_N            0\n",
              "IL1B_N             0\n",
              "P3525_N            0\n",
              "pCASP9_N           0\n",
              "PSD95_N            0\n",
              "SNCA_N             0\n",
              "Ubiquitin_N        0\n",
              "pGSK3B_Tyr216_N    0\n",
              "SHH_N              0\n",
              "BAD_N              0\n",
              "pCFOS_N            0\n",
              "SYP_N              0\n",
              "H3MeK4_N           0\n",
              "CaNA_N             0\n",
              "dtype: int64"
            ]
          },
          "execution_count": 47,
          "metadata": {},
          "output_type": "execute_result"
        }
      ],
      "source": [
        "clean_data.isnull().sum() #checking if theres any Nan value left "
      ]
    },
    {
      "cell_type": "markdown",
      "metadata": {
        "id": "wsHb1rb2HLi8"
      },
      "source": [
        "Label encoding the classes of both the columns"
      ]
    },
    {
      "cell_type": "code",
      "execution_count": null,
      "metadata": {
        "id": "qdq9vgwrc1So"
      },
      "outputs": [],
      "source": [
        "# Import label encoder\n",
        "from sklearn import preprocessing\n",
        " \n",
        "# label_encoder object knows how to understand word labels.\n",
        "label_encoder_geno = preprocessing.LabelEncoder()\n",
        "label_encoder_treatment  = preprocessing.LabelEncoder() \n",
        "# Encode labels in column 'species'.\n",
        "Genotype= label_encoder_geno.fit_transform(Genotype)\n",
        "Treatment_Behaviour= label_encoder_treatment.fit_transform(Treatment_Behaviour)"
      ]
    },
    {
      "cell_type": "code",
      "execution_count": null,
      "metadata": {
        "id": "XDLnGAG9KaL_"
      },
      "outputs": [],
      "source": [
        "from sklearn.model_selection import cross_val_score \n",
        "from sklearn.linear_model import ElasticNet #imorting elasticnet model\n",
        "from sklearn.ensemble import RandomForestClassifier #importing Random forest classifier\n",
        "from sklearn import svm #importing Support vector classifier\n",
        "from sklearn.linear_model import LogisticRegression #importing loogistic regression\n",
        "from sklearn.neural_network import MLPClassifier\n",
        "\n",
        "from sklearn.metrics import f1_score #importing metrics\n",
        "from sklearn.metrics import precision_score\n",
        "from sklearn.metrics import roc_auc_score"
      ]
    },
    {
      "cell_type": "code",
      "execution_count": null,
      "metadata": {
        "id": "srP0503CI88o"
      },
      "outputs": [],
      "source": [
        "from sklearn.model_selection import GridSearchCV\n",
        "from sklearn.model_selection import RandomizedSearchCV\n",
        "\n",
        "from sklearn.feature_selection import RFECV"
      ]
    },
    {
      "cell_type": "markdown",
      "metadata": {
        "id": "sHya84XEHQsW"
      },
      "source": [
        "Creating a function to plot feature importance \n",
        "\n",
        "Note : it doesnt work for random forreest "
      ]
    },
    {
      "cell_type": "code",
      "execution_count": null,
      "metadata": {
        "id": "DmEL5M_hxNM_"
      },
      "outputs": [],
      "source": [
        "def plot_feature_importances(perm_importance_result, feat_name): #function for feature importance\n",
        "    \"\"\" bar plot the feature importance \"\"\"\n",
        "\n",
        "    fig, ax = plt.subplots()\n",
        "\n",
        "    indices = perm_importance_result['importances_mean'].argsort()[-10:][::-1] #plotting top 10 features using perm_importance\n",
        "    plt.barh(range(len(indices)),\n",
        "             perm_importance_result['importances_mean'][indices])\n",
        "\n",
        "    ax.set_yticks(range(len(indices)))\n",
        "    _ = ax.set_yticklabels(feat_name[indices]) #labelling y axis with feature names\n",
        "\n",
        "    plt.xlabel('feature Importance') #labelling X-axis with feature importance\n",
        "    plt.show()"
      ]
    },
    {
      "cell_type": "markdown",
      "metadata": {
        "id": "Zcy7FoXtHjhg"
      },
      "source": [
        "Creating a dictionary of all hyperparameters, we will find the best hyperparameter by using RamdomizedSearchCV"
      ]
    },
    {
      "cell_type": "code",
      "execution_count": null,
      "metadata": {
        "id": "LQtF_skbrRYD"
      },
      "outputs": [],
      "source": [
        "model_params = {                       #dictionary of best hyper parameters for each model\n",
        "    'svm': {                             \n",
        "        'model': svm.SVC(gamma='auto'),  #support vector classifier hyperparameters\n",
        "        'params' : {\n",
        "            'C':np.linspace(1,10,10),\n",
        "            'kernel': ['linear', 'poly', 'rbf', 'sigmoid'] #finding best kernel\n",
        "        }  \n",
        "    },\n",
        "    'random_forest': {\n",
        "        'model': RandomForestClassifier(),  #rfc hyper parameters\n",
        "        'params' : {\n",
        "            'n_estimators':np.array([10,20,50]),\n",
        "            'max_depth': np.array([10,50,100,500])\n",
        "        }\n",
        "    },\n",
        "    'logistic_regression' : {              #elastic net regression hyper parameters\n",
        "        'model': LogisticRegression(penalty='elasticnet',solver='saga',max_iter=5000),\n",
        "        'params': {\n",
        "            'l1_ratio':np.linspace(0,1,num=11)\n",
        "        }\n",
        "    },\n",
        "    'neural_network' :{        #neural network hyper parametrs\n",
        "        'model' : MLPClassifier(max_iter=2000),\n",
        "        'params': {\n",
        "            'hidden_layer_sizes':np.array([100,200,300,500,1000]),\n",
        "            'learning_rate_init': np.linspace(0.001,0.01,11)\n",
        "        }\n",
        "    }\n",
        "}"
      ]
    },
    {
      "cell_type": "markdown",
      "metadata": {
        "id": "pRAR0MLVIK16"
      },
      "source": [
        "### Training"
      ]
    },
    {
      "cell_type": "markdown",
      "metadata": {
        "id": "8NKDy5rTHvT-"
      },
      "source": [
        "Binary Classification "
      ]
    },
    {
      "cell_type": "code",
      "execution_count": null,
      "metadata": {
        "colab": {
          "background_save": true,
          "base_uri": "https://localhost:8080/",
          "height": 1000
        },
        "id": "9b63cW8IrRYE",
        "outputId": "e019dfe9-29c4-4f2e-f3f0-c842268645ef"
      },
      "outputs": [
        {
          "name": "stdout",
          "output_type": "stream",
          "text": [
            "\n",
            "Following are the best hyperparameters for the model :  svm\n",
            "0.9363165266106444\n",
            "{'kernel': 'linear', 'C': 10.0}\n",
            "\n",
            " Top 10 most important features in this model are: \n",
            "\n"
          ]
        },
        {
          "data": {
            "image/png": "[encoded data removed]",
            "text/plain": [
              "<Figure size 432x288 with 1 Axes>"
            ]
          },
          "metadata": {},
          "output_type": "display_data"
        },
        {
          "name": "stdout",
          "output_type": "stream",
          "text": [
            "\n",
            "The f1_score after recursive feature elimination is :  0.9631490787269682\n",
            "\n",
            "Following are the best hyperparameters for the model :  random_forest\n",
            "0.9832633053221288\n",
            "{'n_estimators': 50, 'max_depth': 100}\n",
            "\n",
            " Top 10 most important features in this model are: \n",
            "\n"
          ]
        },
        {
          "data": {
            "image/png": "[encoded data removed]",
            "text/plain": [
              "<Figure size 432x288 with 1 Axes>"
            ]
          },
          "metadata": {},
          "output_type": "display_data"
        },
        {
          "name": "stdout",
          "output_type": "stream",
          "text": [
            "\n",
            "The f1_score after recursive feature elimination is :  1.0\n",
            "\n",
            "Following are the best hyperparameters for the model :  logistic_regression\n",
            "0.904467787114846\n",
            "{'l1_ratio': 1.0}\n",
            "\n",
            " Top 10 most important features in this model are: \n",
            "\n"
          ]
        },
        {
          "data": {
            "image/png": "[encoded data removed]",
            "text/plain": [
              "<Figure size 432x288 with 1 Axes>"
            ]
          },
          "metadata": {},
          "output_type": "display_data"
        },
        {
          "name": "stdout",
          "output_type": "stream",
          "text": [
            "\n",
            "The f1_score after recursive feature elimination is :  0.9195979899497487\n",
            "\n",
            "Following are the best hyperparameters for the model :  neural_network\n",
            "0.9983193277310924\n",
            "{'learning_rate_init': 0.001, 'hidden_layer_sizes': 500}\n",
            "\n",
            " Top 10 most important features in this model are: \n",
            "\n"
          ]
        },
        {
          "data": {
            "image/png": "[encoded data removed]",
            "text/plain": [
              "<Figure size 432x288 with 1 Axes>"
            ]
          },
          "metadata": {},
          "output_type": "display_data"
        },
        {
          "name": "stdout",
          "output_type": "stream",
          "text": [
            "No idea how to implement RFE for neural network\n"
          ]
        }
      ],
      "source": [
        "score0=0\n",
        "from sklearn import neural_network\n",
        "for model_name, mp in model_params.items():\n",
        "\n",
        "  model = RandomizedSearchCV(mp['model'],mp['params'],cv=5,scoring='f1_micro') # model best hyperparameters\n",
        "  model.out_activation_= 'Softmax' #activating outer layer with soft max function\n",
        "  model.fit(clean_data,Genotype) #fitting data using   model\n",
        "\n",
        "  print('\\nFollowing are the best hyperparameters for the model : ',model_name) #general statement to prnit model name\n",
        "  scorek=model.best_score_ \n",
        "  print(model.best_score_) #printing model best score\n",
        "  print(model.best_params_) #printing model best parameters\n",
        "\n",
        "  print('\\n Top 10 most important features in this model are: \\n')\n",
        "\n",
        "  ##saving the best model\n",
        "  if scorek > score0 :\n",
        "    best_binary_model = model.best_estimator_ #finding best model\n",
        "    score0=scorek\n",
        "  else: \n",
        "    pass\n",
        "\n",
        "  if model_name != 'random_forest': #finding feature importance for rfc using permutation importance\n",
        "    from sklearn.inspection import permutation_importance\n",
        "    perm_importance_result_train = permutation_importance(  #normal feature importance attribute not working for Rfc\n",
        "        model.best_estimator_, clean_data, Genotype)\n",
        "\n",
        "    plot_feature_importances(perm_importance_result_train, clean_data.columns) #plotting bar charts in rfc for feature importance\n",
        "\n",
        "  else: \n",
        "    arr=model.best_estimator_.feature_importances_ # for remaining three model finding feature importance using attribute feature importance\n",
        "    index=arr.argsort()[-10:][::-1] #sorting top 10 features in ascending order\n",
        "    plt.barh(clean_data.columns[index], model.best_estimator_.feature_importances_[index]) #plotting bar charts\n",
        "    plt.xlabel(\"Feature Importance\")\n",
        "    plt.show()\n",
        "#recursive feature elimination\n",
        "  if model_name == 'neural_network': #for NN model no idea how to RFE\n",
        "    print(\"No idea how to implement RFE for neural network\")\n",
        "    continue\n",
        "  else:   #implementing recursive feature elimination for all other 3 models RFECV\n",
        "    selector = RFECV(model.best_estimator_, step=10 , cv=5,scoring='f1_micro') #Step =10 means ten features will be dropped after every iteration(recursive featuire elimination)\n",
        "    selector.fit(clean_data,Genotype) #fitting data after RFECV\n",
        "    transform=selector.transform(clean_data) #transforming data\n",
        "    predict=selector.estimator_.predict(transform) #predicting target after transforming data\n",
        "    print(\"\\nThe f1_score after recursive feature elimination is : \",f1_score(Genotype,predict,average='micro')) #printing f1 score for each model after RFECV\n"
      ]
    },
    {
      "cell_type": "markdown",
      "metadata": {
        "id": "iQ4rtEQ7qXuI"
      },
      "source": [
        "Features like APP_N , S6_N , ERK_N, DYRIKA_N are common in all the models. Feature APP_N seems to be the most important feature for binary classification "
      ]
    },
    {
      "cell_type": "markdown",
      "metadata": {
        "id": "Fi0TVkTTH0Hg"
      },
      "source": [
        "Multi class classification "
      ]
    },
    {
      "cell_type": "code",
      "execution_count": null,
      "metadata": {
        "id": "UGzXhyqPMsxc"
      },
      "outputs": [],
      "source": [
        "score0=0\n",
        "for model_name, mp in model_params.items():\n",
        "\n",
        "  model = RandomizedSearchCV(mp['model'],mp['params'],cv=5,scoring='f1_micro') # model best hyperparameters\n",
        "  model.out_activation_= 'Softmax' #activating outer layer with soft max function\n",
        "  model.fit(clean_data,Treatment_Behaviour)  #fitting data using   mode\n",
        "\n",
        "  print('\\nFollowing are the best hyperparameters for the model : ',model_name) #general statement to prnit model name\n",
        "  scorek=model.best_score_\n",
        "  print(model.best_score_)  #printing model best score\n",
        "  print(model.best_params_) #printing model best parameters\n",
        "\n",
        "  print('\\n Top 10 most important features in this model are: \\n')\n",
        "\n",
        "  ##saving the best model\n",
        "  if scorek > score0 :\n",
        "    best_mutliclass_model = model.best_estimator_ #finding best model\n",
        "    score0=scorek\n",
        "  else: \n",
        "    pass\n",
        "\n",
        "  if model_name != 'random_forest':\n",
        "    from sklearn.inspection import permutation_importance  #finding feature importance for rfc using permutation importance\n",
        "    perm_importance_result_train = permutation_importance(\n",
        "        model.best_estimator_, clean_data, Treatment_Behaviour) #normal feature importance attribute not working for Rfc\n",
        "\n",
        "    plot_feature_importances(perm_importance_result_train, clean_data.columns) #plotting bar charts in rfc for feature importance\n",
        "\n",
        "  else: \n",
        "    arr=model.best_estimator_.feature_importances_ # for remaining three model finding feature importance using attribute feature importance\n",
        "    index=arr.argsort()[-10:][::-1]                #sorting top 10 features in ascending order\n",
        "    plt.barh(clean_data.columns[index], model.best_estimator_.feature_importances_[index]) #plotting bar charts\n",
        "    plt.xlabel(\"Feature Importance\")\n",
        "    plt.show()\n",
        "#recursive feature elimination\n",
        "  if model_name == 'neural_network': #for NN model no idea how to RFE\n",
        "    print(\"No idea how to implement RFE for neural network\") \n",
        "    continue\n",
        "  else:  #implementing recursive feature elimination for all other 3 models RFECV\n",
        "    selector = RFECV(model.best_estimator_, step=10 ,min_features_to_select=10, cv=5,scoring='f1_micro') #Step =2 means two features will be dropped after every iteration\n",
        "    selector.fit(clean_data,Treatment_Behaviour) #transforming data\n",
        "    predict=selector.predict(clean_data)#predicting target after transforming data\n",
        "    print(\"\\nThe f1_score after recursive feature elimination is : \",f1_score(Treatment_Behaviour,predict,average='micro')) #printing f1 score for each model after RFECV"
      ]
    },
    {
      "cell_type": "markdown",
      "metadata": {
        "id": "xDQqtnIcr-Yj"
      },
      "source": [
        "Features like pCAMKII_N, SOD1_N, CaNA_N, NR2A_N are common in all the models. Feature pCAMKII_N seems to be the most important feature for multi class classification "
      ]
    },
    {
      "cell_type": "markdown",
      "metadata": {
        "id": "N2AalCXyIBng"
      },
      "source": [
        "### **Testing **"
      ]
    },
    {
      "cell_type": "code",
      "execution_count": null,
      "metadata": {
        "id": "V7F4utGKn0tL"
      },
      "outputs": [],
      "source": [
        "test= pd.read_csv('https://www.ee.iitb.ac.in/~asethi/Dump/MouseTest.csv') #reading the test data "
      ]
    },
    {
      "cell_type": "code",
      "execution_count": null,
      "metadata": {
        "id": "5uetuDGFMKCJ"
      },
      "outputs": [],
      "source": [
        "test=test.dropna(subset=['H3AcK18_N','EGR1_N','H3MeK4_N'], thresh=2) #dropping the row if the number of Nan is 2 in a row to reduce bias "
      ]
    },
    {
      "cell_type": "code",
      "execution_count": null,
      "metadata": {
        "id": "2AnbXoFUEWJT"
      },
      "outputs": [],
      "source": [
        "Genotype_target = label_encoder_geno.transform(test.loc[:,\"Genotype\"]) #saving the genotype column\n",
        "Treatment_target = label_encoder_treatment.transform(test.loc[:,\"Treatment_Behavior\"]) #saving treatment behaviour column\n",
        "test_data=test.drop(['Genotype','Treatment_Behavior'],axis=1) #dropping the target columns"
      ]
    },
    {
      "cell_type": "code",
      "execution_count": null,
      "metadata": {
        "id": "JcgxAQU_DwTW"
      },
      "outputs": [],
      "source": [
        "import numpy as np\n",
        "from sklearn.experimental import enable_iterative_imputer\n",
        "from sklearn.impute import IterativeImputer\n",
        "imp = IterativeImputer(max_iter=10, random_state=0)\n",
        "imp.fit(test_data)\n",
        "# the model learns that the second feature is double the first\n",
        "final_data=pd.DataFrame(imp.transform(test_data),columns=header)"
      ]
    },
    {
      "cell_type": "code",
      "execution_count": null,
      "metadata": {
        "id": "fBLNz2WqIpsH"
      },
      "outputs": [],
      "source": [
        "final_data= final_data.drop(corr_features,axis=1)  #dropping the correlation features which were also dropped in train data "
      ]
    },
    {
      "cell_type": "code",
      "execution_count": null,
      "metadata": {
        "id": "0ktGSH75n-pi"
      },
      "outputs": [],
      "source": [
        "genotype_predict = best_binary_model.predict(final_data) #testing model on test data for binary classification\n",
        "treatment_predict = best_mutliclass_model.predict(final_data) #testing model on test data for multi class data"
      ]
    },
    {
      "cell_type": "code",
      "execution_count": null,
      "metadata": {
        "id": "3d7i2bQ222FD"
      },
      "outputs": [],
      "source": [
        "f1_score(Genotype_target,genotype_predict,average='micro') #based upon test data finding f1 score for binary class"
      ]
    },
    {
      "cell_type": "code",
      "execution_count": null,
      "metadata": {
        "id": "VKyAuXMp444f"
      },
      "outputs": [],
      "source": [
        "f1_score(Treatment_target,treatment_predict,average='micro') #based upon test data finding f1 score for multi class data"
      ]
    },
    {
      "cell_type": "markdown",
      "metadata": {
        "id": "4gU2h9enC2lO"
      },
      "source": [
        "## observations, thoughts and references"
      ]
    },
    {
      "cell_type": "markdown",
      "metadata": {
        "id": "2nGdulRAnTes"
      },
      "source": [
        "**For Binary class Data**\n",
        "On comparing F1 score after recursive feature elimination\n",
        "Random Forest > SV classifier > Elastic Net ------(may be neural networks between RF and SVC)    \n",
        "\n",
        "\n",
        "On comapring F1 score before recursive feature elimination is NeuralNetworks>Randomforest>Support vector>elasticnet\n"
      ]
    },
    {
      "cell_type": "markdown",
      "metadata": {
        "id": "5sqlyZJXk9mq"
      },
      "source": [
        "\n",
        "**For Multiclass data**\n",
        "\n",
        "On comapring F1 score after recursive feature elimination is \n",
        "Random Forest > SV classifier > Elastic Net ------(may be neural networks between RF and SVC)\n",
        "\n",
        "On comapring F1 score before recursive feature elimination is\n",
        "NeuralNetworks>Randomforest>Support vector>elasticnet\n",
        "\n",
        "overall Elasticnet or Lasso can be considered as less accurate model On comparing with other models Neural Networks and RandomForest are more accurate\n",
        "and SVC is also accurate one."
      ]
    },
    {
      "cell_type": "markdown",
      "metadata": {
        "id": "WuuazuxsohDp"
      },
      "source": [
        "After Recursive feature elimination The accuray of all models are increased slightly\n",
        "\n",
        "Feature selection plays very key role in  maintainig accuracy of model"
      ]
    },
    {
      "cell_type": "markdown",
      "metadata": {
        "id": "ZczAlt7YpE1J"
      },
      "source": [
        "For binary class the best model(Random Forest) gives R2 score of 0.87 on test data\n",
        "\n",
        "For multiclass data best model gives R2 score of 0.71 on test data so the models  for Multiclass data are less accurate when compare with Binary classifiers."
      ]
    },
    {
      "cell_type": "markdown",
      "metadata": {
        "id": "yqB0dI1hpmtv"
      },
      "source": [
        "Feature Importance : \n",
        "\n",
        "---\n",
        "\n",
        "\n",
        "Binary \n",
        "\n",
        "---\n",
        "\n",
        "Features like APP_N , S6_N are common in all the models. Feature APP_N seems to be the most important feature for binary classification.\n",
        "\n",
        "\n",
        "\n",
        "\n",
        "---\n",
        "Multi class \n",
        "\n",
        "---\n",
        "\n",
        "Features like pCAMKII_N, SOD1_N, CaNA_N, NR2A_N are common in all the models. Feature pCAMKII_N seems to be the most important feature for multi class classification \n",
        "\n",
        "\n",
        "\n",
        "\n"
      ]
    },
    {
      "cell_type": "markdown",
      "metadata": {
        "id": "Z6aUffaTpmmv"
      },
      "source": [
        "After performing recusive feature elimination, it was observed that there was some significant increments in the f1 score for all models.\n",
        "\n"
      ]
    },
    {
      "cell_type": "markdown",
      "metadata": {
        "id": "Yx3F6zW7HVC7"
      },
      "source": [
        "References \n",
        "https://machinelearningmastery.com/calculate-feature-importance-with-python/\n",
        "\n",
        "https://inria.github.io/scikit-learn-mooc/python_scripts/dev_features_importance.html\n",
        "\n",
        "https://github.com/codebasics/py/blob/master/ML/15_gridsearch/15_grid_search.ipynb\n",
        "\n",
        "https://towardsdatascience.com/exploratory-data-analysis-eda-python-87178e35b14 as reference for exploratory analysis\n",
        "\n",
        "https://www.youtube.com/watch?v=FndwYNcVe0U\n",
        "\n",
        "https://machinelearningmastery.com/how-to-one-hot-encode-sequence-data-in-python/"
      ]
    },
    {
      "cell_type": "markdown",
      "metadata": {
        "id": "Cf7dhCBzI2wA"
      },
      "source": [
        "Disucssed with : Parth Rakesh Brahmbhatt 213020067"
      ]
    }
  ],
  "metadata": {
    "colab": {
      "collapsed_sections": [],
      "name": "213020036_213020037_asgn_2.ipynb",
      "provenance": []
    },
    "kernelspec": {
      "display_name": "Python 3 (ipykernel)",
      "language": "python",
      "name": "python3"
    },
    "language_info": {
      "codemirror_mode": {
        "name": "ipython",
        "version": 3
      },
      "file_extension": ".py",
      "mimetype": "text/x-python",
      "name": "python",
      "nbconvert_exporter": "python",
      "pygments_lexer": "ipython3",
      "version": "3.9.7"
    }
  },
  "nbformat": 4,
  "nbformat_minor": 0
}